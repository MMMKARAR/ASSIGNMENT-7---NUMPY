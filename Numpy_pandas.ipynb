{
 "cells": [
  {
   "cell_type": "code",
   "execution_count": 3,
   "id": "0cd4e2e6-d43e-4c88-bdf3-7f306e39c3a3",
   "metadata": {},
   "outputs": [
    {
     "name": "stdout",
     "output_type": "stream",
     "text": [
      "Requirement already satisfied: numpy in c:\\users\\abdul karrar\\anaconda3\\lib\\site-packages (2.2.1)\n",
      "Note: you may need to restart the kernel to use updated packages.\n"
     ]
    }
   ],
   "source": [
    "pip install numpy"
   ]
  },
  {
   "cell_type": "code",
   "execution_count": 6,
   "id": "a77522b7-97b3-4a3b-917d-0b520ec3a01a",
   "metadata": {},
   "outputs": [],
   "source": [
    "import numpy as np"
   ]
  },
  {
   "cell_type": "code",
   "execution_count": 7,
   "id": "4acc89e4-3441-4726-98eb-156961770d77",
   "metadata": {},
   "outputs": [
    {
     "name": "stdout",
     "output_type": "stream",
     "text": [
      "[ 1  2  3  4  5  6  7  8  9 10]\n"
     ]
    }
   ],
   "source": [
    "f1=np.arange(1,11)\n",
    "print(f1)"
   ]
  },
  {
   "cell_type": "code",
   "execution_count": 8,
   "id": "a634dc76-11d5-4fbd-a1e6-d0e6c007eae1",
   "metadata": {},
   "outputs": [
    {
     "name": "stdout",
     "output_type": "stream",
     "text": [
      "[[ 1  2  3  4  5]\n",
      " [ 6  7  8  9 10]]\n"
     ]
    }
   ],
   "source": [
    "g1=f1.reshape(2,5)\n",
    "print(g1)"
   ]
  },
  {
   "cell_type": "code",
   "execution_count": 9,
   "id": "5f2b7b95-f389-495e-9071-ef6bac887587",
   "metadata": {},
   "outputs": [
    {
     "name": "stdout",
     "output_type": "stream",
     "text": [
      "[ 1  2  3  4  5  6  7  8  9 10 11 12 13 14 15 16 17 18 19 20]\n"
     ]
    }
   ],
   "source": [
    "f2=np.arange(1,21)\n",
    "print(f2)"
   ]
  },
  {
   "cell_type": "code",
   "execution_count": 13,
   "id": "e899cffa-f570-4e75-b7aa-79449bd1fe6c",
   "metadata": {},
   "outputs": [
    {
     "name": "stdout",
     "output_type": "stream",
     "text": [
      "[ 1  2  3  4  5  6  7  8  9 10 11 12 13 14 15 16 17 18 19 20]\n",
      "[ 6  7  8  9 10 11 12 13 14 15 16]\n"
     ]
    }
   ],
   "source": [
    "extracted_elements=f2[5:16]\n",
    "print(f2)\n",
    "print(extracted_elements)"
   ]
  },
  {
   "cell_type": "code",
   "execution_count": 15,
   "id": "f212e258-9e98-4623-9a03-aebea98ba254",
   "metadata": {},
   "outputs": [],
   "source": [
    "#import pandas library\n",
    "import pandas as pd"
   ]
  },
  {
   "cell_type": "code",
   "execution_count": 35,
   "id": "4f4c0cc8-fc42-40f5-aac1-a45594672064",
   "metadata": {},
   "outputs": [
    {
     "name": "stdout",
     "output_type": "stream",
     "text": [
      "{'apple': 3, 'banana': 2, 'orange': 1, 'pears': 4}\n"
     ]
    }
   ],
   "source": [
    "series={'apple':3,'banana':2,'orange':1,'pears':4}\n",
    "print(series)\n",
    "\n",
    "\n",
    "\n",
    "\n",
    "\n",
    "\n"
   ]
  },
  {
   "cell_type": "code",
   "execution_count": 19,
   "id": "4ee5c88c-f373-4bdb-ad6b-d964e5297e17",
   "metadata": {},
   "outputs": [
    {
     "name": "stdout",
     "output_type": "stream",
     "text": [
      "   name  age  gender\n",
      "0  sunu   20  female\n",
      "1  vinu   25    male\n",
      "2  minu   30  female\n",
      "3  manu   27    male\n",
      "4  sulu   24  female\n",
      "5  sanu   35    male\n",
      "6  sinu   40  female\n",
      "7  salu   28    male\n",
      "8   afu   33  female\n",
      "9   afi   29    male\n"
     ]
    }
   ],
   "source": [
    "data={\"name\":[\"sunu\",\"vinu\",\"minu\",\"manu\",\"sulu\",\"sanu\",\"sinu\",\"salu\",\"afu\",\"afi\"],\n",
    "      \"age\":[20,25,30,27,24,35,40,28,33,29],\n",
    "      \"gender\":[\"female\",\"male\",\"female\",\"male\",\"female\",\"male\",\"female\",\"male\",\"female\",\"male\"],\n",
    "     }\n",
    "df=pd.DataFrame(data)\n",
    "print(df)"
   ]
  },
  {
   "cell_type": "code",
   "execution_count": 20,
   "id": "60681b54-eca8-4fd3-808e-4c35886f5f13",
   "metadata": {},
   "outputs": [
    {
     "name": "stdout",
     "output_type": "stream",
     "text": [
      "   name  age  gender  occupation\n",
      "0  sunu   20  female  programmer\n",
      "1  vinu   25    male     manager\n",
      "2  minu   30  female     analyst\n",
      "3  manu   27    male  programmer\n",
      "4  sulu   24  female     manager\n",
      "5  sanu   35    male     analyst\n",
      "6  sinu   40  female  programmer\n",
      "7  salu   28    male     manager\n",
      "8   afu   33  female     analyst\n",
      "9   afi   29    male  programmer\n"
     ]
    }
   ],
   "source": [
    "df[\"occupation\"]=[\"programmer\",\"manager\",\"analyst\",\"programmer\",\"manager\",\"analyst\",\"programmer\",\"manager\",\"analyst\",\"programmer\"]\n",
    "print(df)"
   ]
  },
  {
   "cell_type": "code",
   "execution_count": 23,
   "id": "95e4e6e1-cc8f-4338-a624-41388bb0999c",
   "metadata": {},
   "outputs": [
    {
     "name": "stdout",
     "output_type": "stream",
     "text": [
      "   name  age  gender  occupation\n",
      "2  minu   30  female     analyst\n",
      "5  sanu   35    male     analyst\n",
      "6  sinu   40  female  programmer\n",
      "8   afu   33  female     analyst\n"
     ]
    }
   ],
   "source": [
    "age_filtered_df=df.query(\"age>=30\")\n",
    "print(age_filtered_df)"
   ]
  },
  {
   "cell_type": "code",
   "execution_count": 25,
   "id": "d4f2594a-1e10-4616-a6ef-a0bf16f0773c",
   "metadata": {},
   "outputs": [
    {
     "name": "stdout",
     "output_type": "stream",
     "text": [
      "   Unnamed: 0  name  age  gender  occupation\n",
      "0           0  sunu   20  female  programmer\n",
      "1           1  vinu   25    male     manager\n",
      "2           2  minu   30  female     analyst\n",
      "3           3  manu   27    male  programmer\n",
      "4           4  sulu   24  female     manager\n",
      "5           5  sanu   35    male     analyst\n",
      "6           6  sinu   40  female  programmer\n",
      "7           7  salu   28    male     manager\n",
      "8           8   afu   33  female     analyst\n",
      "9           9   afi   29    male  programmer\n"
     ]
    }
   ],
   "source": [
    "df.to_csv(\"dataframe.csv\")\n",
    "df_csv=pd.read_csv(\"dataframe.csv\")\n",
    "print(df_csv)"
   ]
  },
  {
   "cell_type": "code",
   "execution_count": null,
   "id": "c1451fbd-9a01-4437-aa55-d17036f278f8",
   "metadata": {},
   "outputs": [],
   "source": []
  }
 ],
 "metadata": {
  "kernelspec": {
   "display_name": "Python 3 (ipykernel)",
   "language": "python",
   "name": "python3"
  },
  "language_info": {
   "codemirror_mode": {
    "name": "ipython",
    "version": 3
   },
   "file_extension": ".py",
   "mimetype": "text/x-python",
   "name": "python",
   "nbconvert_exporter": "python",
   "pygments_lexer": "ipython3",
   "version": "3.10.9"
  }
 },
 "nbformat": 4,
 "nbformat_minor": 5
}
